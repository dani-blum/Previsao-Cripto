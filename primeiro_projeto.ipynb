{
  "nbformat": 4,
  "nbformat_minor": 0,
  "metadata": {
    "colab": {
      "provenance": []
    },
    "kernelspec": {
      "name": "python3",
      "display_name": "Python 3"
    },
    "language_info": {
      "name": "python"
    }
  },
  "cells": [
    {
      "cell_type": "code",
      "execution_count": 1,
      "metadata": {
        "colab": {
          "base_uri": "https://localhost:8080/"
        },
        "id": "jhVVhxiuxosS",
        "outputId": "cac7d50c-c196-4dc1-d9f0-ef36be8aa5f7"
      },
      "outputs": [
        {
          "output_type": "stream",
          "name": "stdout",
          "text": [
            "Erro Quadrático Médio (MSE): 154178359.10\n"
          ]
        }
      ],
      "source": [
        "import numpy as np\n",
        "import pandas as pd\n",
        "from sklearn.model_selection import train_test_split\n",
        "from sklearn.preprocessing import OneHotEncoder, StandardScaler\n",
        "from sklearn.compose import ColumnTransformer\n",
        "from sklearn.pipeline import Pipeline\n",
        "from sklearn.linear_model import LinearRegression\n",
        "from sklearn.metrics import mean_squared_error\n",
        "\n",
        "# Criando dados fictícios\n",
        "data = {\n",
        "    \"Combustivel\": [\"Gasolina\", \"Diesel\", \"Etanol\", \"Gasolina\", \"Diesel\", \"Etanol\", \"Gasolina\", \"Diesel\", \"Etanol\"],\n",
        "    \"Idade\": [3, 5, 2, 8, 10, 1, 4, 6, 2],\n",
        "    \"Quilometragem\": [30000, 50000, 20000, 80000, 120000, 15000, 40000, 60000, 25000],\n",
        "    \"Preco\": [40000, 25000, 50000, 18000, 12000, 55000, 35000, 20000, 48000]\n",
        "}\n",
        "\n",
        "# Criando o DataFrame\n",
        "df = pd.DataFrame(data)\n",
        "\n",
        "# Separando variáveis independentes (X) e dependente (y)\n",
        "X = df.drop(columns=[\"Preco\"])\n",
        "y = df[\"Preco\"]\n",
        "\n",
        "# Dividindo os dados em treino e teste\n",
        "X_train, X_test, y_train, y_test = train_test_split(X, y, test_size=0.2, random_state=42)\n",
        "\n",
        "# Definindo colunas categóricas e numéricas\n",
        "categorical_features = [\"Combustivel\"]\n",
        "numerical_features = [\"Idade\", \"Quilometragem\"]\n",
        "\n",
        "# Criando transformações\n",
        "categorical_transformer = OneHotEncoder(handle_unknown=\"ignore\")\n",
        "numerical_transformer = StandardScaler()\n",
        "\n",
        "# Criando ColumnTransformer\n",
        "preprocessor = ColumnTransformer(\n",
        "    transformers=[\n",
        "        (\"num\", numerical_transformer, numerical_features),\n",
        "        (\"cat\", categorical_transformer, categorical_features),\n",
        "    ]\n",
        ")\n",
        "\n",
        "# Criando o pipeline\n",
        "pipeline = Pipeline([\n",
        "    (\"preprocessor\", preprocessor),\n",
        "    (\"regressor\", LinearRegression())\n",
        "])\n",
        "\n",
        "# Treinando o modelo\n",
        "pipeline.fit(X_train, y_train)\n",
        "\n",
        "# Fazendo previsões\n",
        "y_pred = pipeline.predict(X_test)\n",
        "\n",
        "# Avaliando o desempenho do modelo\n",
        "mse = mean_squared_error(y_test, y_pred)\n",
        "print(f\"Erro Quadrático Médio (MSE): {mse:.2f}\")\n"
      ]
    }
  ]
}